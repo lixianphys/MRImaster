{
 "cells": [
  {
   "cell_type": "code",
   "execution_count": 1,
   "metadata": {},
   "outputs": [
    {
     "name": "stdout",
     "output_type": "stream",
     "text": [
      "Current metadata provider: local@/mnt/c/gitproj/machine-learning-projects/mri-master-linux\n"
     ]
    }
   ],
   "source": [
    "from metaflow import Flow, get_metadata, namespace\n",
    "import matplotlib.pyplot as plt\n",
    "print(\"Current metadata provider: %s\" % get_metadata())"
   ]
  },
  {
   "cell_type": "code",
   "execution_count": 2,
   "metadata": {},
   "outputs": [
    {
     "name": "stdout",
     "output_type": "stream",
     "text": [
      "Using run: Run('TumorAnalysisModel/1726418397967835')\n"
     ]
    }
   ],
   "source": [
    "# Set namespace to None to search over all namespaces\n",
    "namespace(None)\n",
    "run = Flow(\"TumorAnalysisModel\").latest_successful_run\n",
    "print(\"Using run: %s\" % str(run))"
   ]
  },
  {
   "cell_type": "code",
   "execution_count": 3,
   "metadata": {},
   "outputs": [
    {
     "data": {
      "text/plain": [
       "<MetaflowData: device, image_path, load_params, loss_history, metric_history, mode, model, model_params, name, train_loader, train_params, val_loader>"
      ]
     },
     "execution_count": 3,
     "metadata": {},
     "output_type": "execute_result"
    }
   ],
   "source": [
    "run.data"
   ]
  },
  {
   "cell_type": "code",
   "execution_count": 4,
   "metadata": {},
   "outputs": [
    {
     "data": {
      "text/plain": [
       "CNN_TUMOR(\n",
       "  (model): Sequential(\n",
       "    (0): Sequential(\n",
       "      (0): Conv2d(3, 8, kernel_size=(3, 3), stride=(1, 1))\n",
       "      (1): ReLU(inplace=True)\n",
       "      (2): MaxPool2d(kernel_size=2, stride=2, padding=0, dilation=1, ceil_mode=False)\n",
       "    )\n",
       "    (1): Sequential(\n",
       "      (0): Conv2d(8, 16, kernel_size=(3, 3), stride=(1, 1))\n",
       "      (1): ReLU(inplace=True)\n",
       "      (2): MaxPool2d(kernel_size=2, stride=2, padding=0, dilation=1, ceil_mode=False)\n",
       "    )\n",
       "    (2): Sequential(\n",
       "      (0): Conv2d(16, 32, kernel_size=(3, 3), stride=(1, 1))\n",
       "      (1): ReLU(inplace=True)\n",
       "      (2): MaxPool2d(kernel_size=2, stride=2, padding=0, dilation=1, ceil_mode=False)\n",
       "    )\n",
       "    (3): Sequential(\n",
       "      (0): Conv2d(32, 64, kernel_size=(3, 3), stride=(1, 1))\n",
       "      (1): ReLU(inplace=True)\n",
       "      (2): MaxPool2d(kernel_size=2, stride=2, padding=0, dilation=1, ceil_mode=False)\n",
       "    )\n",
       "    (4): Flatten(start_dim=1, end_dim=-1)\n",
       "    (5): Linear(in_features=12544, out_features=100, bias=True)\n",
       "    (6): Linear(in_features=100, out_features=2, bias=True)\n",
       "  )\n",
       ")"
      ]
     },
     "execution_count": 4,
     "metadata": {},
     "output_type": "execute_result"
    }
   ],
   "source": [
    "model = run.data.model\n",
    "model"
   ]
  },
  {
   "cell_type": "code",
   "execution_count": 5,
   "metadata": {},
   "outputs": [],
   "source": [
    "def predict(image):\n",
    "        from utils import preprocess_image\n",
    "        import torch\n",
    "        # Preprocess the image\n",
    "        image = preprocess_image(image)\n",
    "        # Run the model on the input image\n",
    "        with torch.no_grad():  # Disable gradient computation for faster inference\n",
    "            output = model(image)\n",
    "        # Optionally, apply softmax to get probabilities\n",
    "        probabilities = torch.nn.functional.softmax(output, dim=1)\n",
    "        \n",
    "        # Get the predicted class (assuming single-label classification)\n",
    "        _, predicted_class = torch.max(probabilities, 1)\n",
    "        \n",
    "        return \"Healthy\" if predicted_class.item() else \"Tumor Cancor\", probabilities"
   ]
  },
  {
   "cell_type": "code",
   "execution_count": 9,
   "metadata": {},
   "outputs": [
    {
     "name": "stdout",
     "output_type": "stream",
     "text": [
      "pred_examples/not cancer.jpg\n"
     ]
    },
    {
     "data": {
      "text/plain": [
       "('Tumor Cancor', tensor([[1.0000e+00, 1.7339e-12]]))"
      ]
     },
     "execution_count": 9,
     "metadata": {},
     "output_type": "execute_result"
    }
   ],
   "source": [
    "print(run.data.image_path)\n",
    "from PIL import Image\n",
    "predict(Image.open(run.data.image_path).convert('RGB'))"
   ]
  },
  {
   "cell_type": "code",
   "execution_count": 24,
   "metadata": {},
   "outputs": [
    {
     "name": "stdout",
     "output_type": "stream",
     "text": [
      "Using run: Run('FineTuneDropoutRate/1726468093918106')\n"
     ]
    }
   ],
   "source": [
    "namespace(None)\n",
    "run = Flow(\"FineTuneDropoutRate\").latest_successful_run\n",
    "print(\"Using run: %s\" % str(run))"
   ]
  },
  {
   "cell_type": "code",
   "execution_count": 27,
   "metadata": {},
   "outputs": [],
   "source": [
    "loss_history = run.data.loss_history\n",
    "metric_history = run.data.metric_history"
   ]
  },
  {
   "cell_type": "code",
   "execution_count": 26,
   "metadata": {},
   "outputs": [
    {
     "data": {
      "text/plain": [
       "Text(0, 0.5, 'Loss_val')"
      ]
     },
     "execution_count": 26,
     "metadata": {},
     "output_type": "execute_result"
    },
    {
     "data": {
      "image/png": "[encoded data removed]",
      "text/plain": [
       "<Figure size 640x480 with 1 Axes>"
      ]
     },
     "metadata": {},
     "output_type": "display_data"
    }
   ],
   "source": [
    "import matplotlib.pyplot as plt\n",
    "epochs = range(1,5)\n",
    "dropout_rate = [0.1,0.15,0.2,0.25]\n",
    "for i, rate in enumerate(dropout_rate):\n",
    "    plt.scatter(epochs,loss_history[i]['val'],label=rate)\n",
    "plt.legend()\n",
    "plt.xlabel(\"Epoch\")\n",
    "plt.ylabel(\"Loss_val\")"
   ]
  },
  {
   "cell_type": "code",
   "execution_count": 28,
   "metadata": {},
   "outputs": [
    {
     "data": {
      "text/plain": [
       "Text(0, 0.5, 'Acc_val')"
      ]
     },
     "execution_count": 28,
     "metadata": {},
     "output_type": "execute_result"
    },
    {
     "data": {
      "image/png": "[encoded data removed]",
      "text/plain": [
       "<Figure size 640x480 with 1 Axes>"
      ]
     },
     "metadata": {},
     "output_type": "display_data"
    }
   ],
   "source": [
    "for i, rate in enumerate(dropout_rate):\n",
    "    plt.scatter(epochs,metric_history[i]['val'],label=rate)\n",
    "plt.legend()\n",
    "plt.xlabel(\"Epoch\")\n",
    "plt.ylabel(\"Acc_val\")"
   ]
  }
 ],
 "metadata": {
  "kernelspec": {
   "display_name": "Python (venv-wsl)",
   "language": "python",
   "name": "venv-wsl"
  },
  "language_info": {
   "codemirror_mode": {
    "name": "ipython",
    "version": 3
   },
   "file_extension": ".py",
   "mimetype": "text/x-python",
   "name": "python",
   "nbconvert_exporter": "python",
   "pygments_lexer": "ipython3",
   "version": "3.8.10"
  }
 },
 "nbformat": 4,
 "nbformat_minor": 4
}
